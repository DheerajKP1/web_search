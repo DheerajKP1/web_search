{
 "cells": [
  {
   "cell_type": "code",
   "execution_count": 1,
   "metadata": {},
   "outputs": [],
   "source": [
    "## Important libraries\n",
    "import streamlit as st\n",
    "from langchain_groq import ChatGroq\n",
    "from dotenv import load_dotenv\n",
    "import os\n",
    "import chromadb\n",
    "import uuid\n",
    "from langchain.vectorstores import Chroma\n",
    "from langchain_community.embeddings import OllamaEmbeddings\n",
    "import re\n",
    "from langchain_community.embeddings import HuggingFaceEmbeddings\n",
    "from langchain.chains import ConversationalRetrievalChain\n",
    "from langchain.memory import ConversationBufferMemory\n",
    "from langchain.schema import HumanMessage, AIMessage\n",
    "from langgraph.prebuilt import ToolNode\n",
    "from langgraph.checkpoint.memory import MemorySaver\n",
    "from langgraph.prebuilt import create_react_agent\n",
    "from langgraph.graph import MessagesState, StateGraph, START, END\n",
    "from langchain_core.tools import tool\n",
    "from langchain_community.document_loaders import PyPDFLoader\n",
    "from langchain.text_splitter import RecursiveCharacterTextSplitter"
   ]
  },
  {
   "cell_type": "code",
   "execution_count": 2,
   "metadata": {},
   "outputs": [
    {
     "data": {
      "text/plain": [
       "True"
      ]
     },
     "execution_count": 2,
     "metadata": {},
     "output_type": "execute_result"
    }
   ],
   "source": [
    "load_dotenv()"
   ]
  },
  {
   "cell_type": "code",
   "execution_count": 3,
   "metadata": {},
   "outputs": [],
   "source": [
    "# pip install langgraph\n",
    "# pip install sentence-transformers"
   ]
  },
  {
   "cell_type": "code",
   "execution_count": 4,
   "metadata": {},
   "outputs": [],
   "source": [
    "# pip install lxml"
   ]
  },
  {
   "cell_type": "code",
   "execution_count": 11,
   "metadata": {},
   "outputs": [],
   "source": [
    "from langchain_community.document_loaders import WebBaseLoader\n",
    "\n",
    "loader = WebBaseLoader(\"https://www.geeksforgeeks.org/ml-machine-learning/\")\n",
    "page_data = loader.load()"
   ]
  },
  {
   "cell_type": "code",
   "execution_count": 12,
   "metadata": {},
   "outputs": [
    {
     "name": "stdout",
     "output_type": "stream",
     "text": [
      "[Document(metadata={'source': 'https://www.geeksforgeeks.org/ml-machine-learning/', 'title': 'What is Machine Learning? - GeeksforGeeks', 'description': 'Machine learning is a crucial subset of artificial intelligence that enables algorithms to learn from data, make predictions, and improve performance across various applications, including finance, healthcare, and autonomous systems, without explicit programming.', 'language': 'en-US'}, page_content='\\n\\n\\n\\n\\n\\n\\n\\n\\n\\n\\n\\n\\n\\n\\n\\n\\n\\n\\n\\n\\n\\n\\n\\n\\n\\n\\n\\n\\n\\n\\n\\n\\n\\n\\n\\n\\n\\n\\n\\n\\n\\n\\n\\n\\n\\n\\n\\nWhat is Machine Learning? - GeeksforGeeks\\n\\n\\n\\n\\n\\n\\n\\n\\n\\n\\n\\n\\n\\n\\n\\n\\n\\n\\n\\n\\n\\n\\n\\n\\n\\n\\n\\n\\n\\n\\n\\n\\n\\n\\n\\n\\n\\n\\n\\n\\n\\n\\nSkip to content\\n\\n\\n\\n\\n\\n\\n\\n\\n\\nCoursesGet IBM CertificationsComplete Machine Learning & Data Science ProgramData Science Training ProgramData Analytics Training using Excel, SQL, Python & PowerBIComplete Data Analytics ProgramDSA to DevelopmentFor Working ProfessionalsData Structure & Algorithm Classes (Live)System Design (Live)JAVA Backend Development(Live)DevOps(Live)Data Structures & Algorithms in PythonFor StudentsInterview Preparation CourseGATE CS & IT 2025Data Science (Live)Data Structure & Algorithm-Self Paced(C++/JAVA)Master Competitive Programming(Live)Full Stack Development with React & Node JS(Live)All CoursesFull Stack DevelopmentData Science ProgramTutorialsPythonPython TutorialPython ProgramsAdvanced Python TutorialPython ProjectsWeb Development in PythonDjangoFlaskPostmanWeb Scrapping in PythonData Structures & AlgorithmsComplete DSA TutorialCompany Wise PreparationCompetitive ProgrammingSDE SheetsLanguagesJavaC++R TutorialCC#SQLPerlGo LanguageInterview CornerSystem Design TutorialTop TopicsPractice Company QuestionsInterview ExperiencesExperienced InterviewsInternship InterviewsMultiple Choice QuizzesAptitude for PlacementsPuzzles for InterviewsWeb DevelopmentHTMLCSSJavaScriptTypeScriptReactJSNextJSNode.jsPHP100 Days of Web DevelopmentCS SubjectsEngineering MathematicsOperating SystemDBMSComputer NetworksComputer Organization and ArchitectureTheory of ComputationCompiler DesignDigital LogicSoftware EngineeringDevOps And LinuxDevOps TutorialGITAWSKubernetesDockerMicrosoft Azure TutorialGoogle Cloud PlatformLinux TutorialGATEGATE Computer Science NotesGATE CS Original Papers and Official KeysGATE CS 2025 SyllabusGATE DA 2025 SyllabusSchool LearningGeeksforGeeks VideosData ScienceMachine LearningEDA [Exploratory Data Analysis]Data Analysis with PythonPython Data VisualizationData Science using PythonData Science using RDeep LearningNLP TutorialComputer VisionInterview CornerMachine Learning Interview QuestionDeep Learning Interview QuestionNLP Interview QuestionPython Interview QuestionsTop 50 R Interview QuestionsPracticeAll DSA ProblemsProblem of the DayGfG SDE SheetCurated DSA ListsBeginner\\'s DSA SheetLove Babbar SheetTop 50 Array ProblemsTop 50 String ProblemsTop 50 Tree ProblemsTop 50 Graph ProblemsTop 50 DP Problems\\n\\n\\n\\n\\n\\n \\n\\n\\n\\n\\n\\n\\n\\n\\n\\n\\n\\n\\n\\n\\n\\n\\n\\n\\n\\n\\n\\n\\n\\n\\n\\n\\n\\n\\nNotifications\\n\\nMark all as read\\n\\n\\n\\n\\n\\nAll\\n\\n\\n\\n\\n\\n \\n\\nView All\\n\\n\\n\\n\\n\\n\\n\\n\\n\\nNotifications\\n\\n\\n\\nMark all as read\\n\\n\\n\\n\\n\\n\\nAll\\n\\n\\nUnread\\n\\n\\nRead\\n\\n\\n\\n\\n\\r\\n                                        You\\'re all caught up!!\\r\\n                                    \\n\\n\\n\\n\\n\\n\\n\\n\\n\\n\\n\\n\\n\\n\\n\\n\\n\\n\\n\\n\\n\\n\\n\\n\\n\\n\\n\\n\\n\\n\\n\\n\\n\\nData Science IBM CertificationData ScienceData Science ProjectsData AnalysisData VisualizationMachine LearningML ProjectsDeep LearningNLPComputer VisionArtificial Intelligence \\n\\n\\n\\n\\n▲\\n\\n\\n\\n\\n\\n\\n\\n\\n\\n\\n\\n\\nOpen In App\\n\\n\\n\\n\\n\\n\\n\\n\\n\\n\\n\\n\\nGfG 160Share Your ExperiencesMachine Learning with RGetting Started With Machine Learning In RIntroduction to Machine Learning in RWhat is Machine Learning?Setting up Environment for Machine Learning with R ProgrammingSupervised and Unsupervised Learning in R ProgrammingData ProcessingML | Introduction to Data in Machine LearningML | Understanding Data ProcessingML | Overview of Data CleaningML | Feature Scaling - Part 1Supervised Learning Simple Linear Regression in RMultiple Linear Regression using RDecision Tree for Regression in R ProgrammingDecision Tree Classifiers in R ProgrammingRandom Forest Approach in R ProgrammingRandom Forest Approach for Regression in R ProgrammingRandom Forest Approach for Classification in R ProgrammingClassifying data using Support Vector Machines(SVMs) in RSupport Vector Machine Classifier Implementation in R with Caret packageKNN Classifier in R ProgrammingEvaluation MetricsPrecision, Recall and F1-Score using RHow to Calculate F1 Score in R?Unsupervised LearningK-Means Clustering in R ProgrammingHierarchical Clustering in R ProgrammingHow to Perform Hierarchical Cluster Analysis using R Programming?Linear Discriminant Analysis in R ProgrammingModel Selection and EvaluationCross-Validation in R programmingLOOCV (Leave One Out Cross-Validation) in R ProgrammingBias-Variance Trade Off - Machine LearningReinforcement LearningMarkov Decision ProcessQ-Learning in Reinforcement LearningDeep Q-LearningDimensionality ReductionIntroduction to Dimensionality ReductionML | Introduction to Kernel PCAPrincipal Component Analysis with R ProgrammingAdvanced TopicsKolmogorov-Smirnov Test in R ProgrammingMoore – Penrose Pseudoinverse in R ProgrammingSpearman Correlation Testing in R ProgrammingPoisson Functions in R ProgrammingFeature Engineering in R ProgrammingAdjusted Coefficient of Determination in R ProgrammingMann Whitney U Test in R ProgrammingBootstrap Confidence Interval with R ProgrammingPredictive Analysis in R ProgrammingMachine Learning & Data Science Course \\n\\n\\n\\n\\n\\n\\n\\n\\n\\n\\n\\n\\n\\n\\n\\n\\nWhat is Machine Learning?\\n\\n\\n\\nLast Updated : \\n13 Jan, 2025\\n\\n\\n\\n\\n\\n\\nSummarize\\n\\n\\n\\n\\n\\n\\nComments\\n\\n\\n\\n\\n\\n\\n\\nImprove\\n\\n\\n\\n\\n\\n\\n\\n\\n\\n\\n\\n\\n\\n\\n\\n\\n\\n\\n\\n\\n\\n\\n\\n\\n\\n\\n\\nSuggest changes\\n\\n\\n \\n\\n\\nLike Article\\n\\n\\n\\nLike\\n\\n\\n\\n\\n\\n\\n\\n\\nShare\\n\\n\\n\\n\\n\\n\\n\\nReport\\n\\n\\n\\n\\n\\n\\n\\nFollow\\n\\n\\n\\n\\n\\nMachine learning is a branch of artificial intelligence that enables algorithms to uncover hidden patterns within datasets. It allows them to predict new, similar data without explicit programming for each task. Machine learning finds applications in diverse fields such as image and speech recognition, natural language processing, recommendation systems, fraud detection, portfolio optimization, and automating tasks.\\nMachine learning’s impact extends to autonomous vehicles, drones, and robots, enhancing their adaptability in dynamic environments. This approach marks a breakthrough where machines learn from data examples to generate accurate outcomes, closely intertwined with data mining and data science.\\n\\nNeed for Machine Learning\\nMachine learning is important because it allows computers to learn from data and improve their performance on specific tasks without being explicitly programmed. This ability to learn from data and adapt to new situations makes machine learning particularly useful for tasks that involve large amounts of data, complex decision-making, and dynamic environments.\\nHere are some specific areas where machine learning is being used:\\n\\nPredictive modeling: Machine learning can be used to build predictive models that can help businesses make better decisions. For example, machine learning can be used to predict which customers are most likely to buy a particular product, or which patients are most likely to develop a certain disease.\\n\\n\\nNatural language processing: Machine learning is used to build systems that can understand and interpret human language. This is important for applications such as voice recognition, chatbots, and language translation.\\n\\n\\nComputer vision: Machine learning is used to build systems that can recognize and interpret images and videos. This is important for applications such as self-driving cars, surveillance systems, and medical imaging.\\n\\n\\nFraud detection: Machine learning can be used to detect fraudulent behavior in financial transactions, online advertising, and other areas.\\n\\n\\nRecommendation systems: Machine learning can be used to build recommendation systems that suggest products, services, or content to users based on their past behavior and preferences.\\n\\nOverall, machine learning has become an essential tool for many businesses and industries, as it enables them to make better use of data, improve their decision-making processes, and deliver more personalized experiences to their customers.\\nDifference between Machine Learning, Traditional Programming and Artificial Intelligence\\n\\n\\n\\nMachine Learning\\nTraditional Programming\\nArtificial Intelligence\\n\\n\\n\\n\\nA subset of AI focusing on creating algorithms that learn from data and make predictions.\\nWriting rule-based, deterministic code based on specific problem statements.\\nTechnology that enables machines to perform tasks that typically require human intelligence.\\n\\n\\nData-driven, learns from historical data to predict future outcomes.\\nRule-based and deterministic, relies on explicit instructions from developers.\\nUses a mix of data-driven techniques and predefined rules, incorporating ML, deep learning, and traditional programming.\\n\\n\\nCapable of finding patterns and insights in large datasets, learning and improving over time.\\nLacks self-learning capabilities; output is directly tied to input and predefined rules.\\nAdapts and evolves to perform complex tasks with high accuracy, often exceeding human capabilities in specific domains.\\n\\n\\nUsed in predictive analytics, autonomous vehicles, chatbots, and other AI-based applications.\\nUsed to build applications with specific functionalities like software tools and systems.\\nBroad applications including natural language processing, computer vision, robotics, and more.\\n\\n\\nDependent on the quality and diversity of data. Can perform poorly if data is not representative.\\nDependent on the intelligence and foresight of developers. Limited to known scenarios.\\nCombines the strengths of both ML and traditional programming to tackle complex, multi-faceted problems.\\n\\n\\n\\nHow machine learning algorithms work?\\nA machine learning algorithm works by learning patterns and relationships from data to make predictions or decisions without being explicitly programmed for each task. \\nHere’s a simplified overview of how a typical machine learning algorithm works:\\n1. Data Collection\\nFirst, relevant data is collected or curated. This data could include examples, features, or attributes that are important for the task at hand, such as images, text, numerical data, etc.\\n2. Data Preprocessing\\nBefore feeding the data into the algorithm, it often needs to be preprocessed. This step may involve cleaning the data (handling missing values, outliers), transforming the data (normalization, scaling), and splitting it into training and test sets.\\n3. Choosing a Model\\nDepending on the task (e.g., classification, regression, clustering), a suitable machine learning model is chosen. Examples include decision trees, neural networks, support vector machines, and more advanced models like deep learning architectures.\\n4. Training the Model\\nThe selected model is trained using the training data. During training, the algorithm learns patterns and relationships in the data. This involves adjusting model parameters iteratively to minimize the difference between predicted outputs and actual outputs (labels or targets) in the training data.\\n5. Evaluating the Model\\nOnce trained, the model is evaluated using the test data to assess its performance. Metrics such as accuracy, precision, recall, or mean squared error are used to evaluate how well the model generalizes to new, unseen data.\\n6. Fine-tuning\\nModels may be fine-tuned by adjusting hyperparameters (parameters that are not directly learned during training, like learning rate or number of hidden layers in a neural network) to improve performance.\\n7. Prediction or Inference\\nFinally, the trained model is used to make predictions or decisions on new data. This process involves applying the learned patterns to new inputs to generate outputs, such as class labels in classification tasks or numerical values in regression tasks.\\nMachine Learning Lifecycle\\nThe machine learning lifecycle includes: \\n\\nDefining the Problem: Clearly identify the real-world problem to be solved.\\nData Collection: Gather necessary data from various sources.\\nData Cleaning and Preprocessing: Resolve data quality issues and prepare the data for analysis.\\nExploratory Data Analysis (EDA): Analyze data to identify patterns, outliers, and trends.\\nFeature Engineering and Selection: Enhance data features and select relevant ones to improve model performance.\\nModel Selection: Choose suitable models based on the problem type and data characteristics.\\nModel Training: Train the model using a split of training and validation datasets.\\nModel Evaluation and Tuning: Assess and optimize the model using relevant metrics.\\nModel Deployment: Implement the model in a production environment for real-time predictions.\\nModel Monitoring and Maintenance: Regularly check and update the model to maintain accuracy.\\n\\nMachine Learning Life Cycle\\nTypes of Machine Learning\\n1. Supervised Machine Learning\\nSupervised learning algorithms are  trained on the labeled dataset. They learn to map input features to targets based on labeled training data. There are two main types of supervised learning:\\n\\nRegression: Regression algorithm learns to predict continuous values based on input features.\\nClassification: Classification algorithm learns to assign input data to a specific category or class based on input features. The output labels in classification are discrete values. \\n\\n2. Unsupervised Machine Learning\\nUnsupervised learning algorithm learns to recognize patterns in data without being explicitly trained using labeled examples. The goal is to discover the underlying structure or distribution in the data.\\nThere are two main types of unsupervised learning:\\n\\nClustering: Clustering algorithms group similar data points together based on their characteristics. The goal is to identify groups, or clusters, of data points that are similar to each other, while being distinct from other groups. \\nDimensionality reduction: Dimensionality reduction algorithms reduce the number of input variables in a dataset while preserving as much of the original information as possible. This is useful for reducing the complexity of a dataset and making it easier to visualize and analyze.\\n\\n3. Reinforcement Machine Learning\\nIn Reinforcement Learning, an agent learns to interact with an environment by performing actions and receiving rewards or penalties based on its actions. The goal of reinforcement learning is to learn a policy, which is a mapping from states to actions, that maximizes the expected cumulative reward over time.\\nThere are two main types of reinforcement learning:\\n\\nModel-based reinforcement learning: The agent learns a model of the environment, including the transition probabilities between states and the rewards associated with each state-action pair. The agent then uses this model to plan its actions in order to maximize its expected reward. \\nModel-free reinforcement learning: The agent learns a policy directly from experience without explicitly building a model of the environment. The agent interacts with the environment and updates its policy based on the rewards it receives. \\n\\nVarious Applications of Machine Learning\\n\\nAutomation: Machine learning, which works entirely autonomously in any field without the need for any human intervention. For example, robots perform the essential process steps in manufacturing plants.\\nFinance Industry: Machine learning is growing in popularity in the finance industry. Banks are mainly using ML to find patterns inside the data but also to prevent fraud.\\nGovernment organization: The government makes use of ML to manage public safety and utilities. Take the example of China with its massive face recognition. The government uses\\xa0Artificial intelligence\\xa0to prevent jaywalking.\\nHealthcare industry: Healthcare was one of the first industries to use machine learning with image detection.\\nMarketing: Broad use of AI is done in marketing thanks to abundant access to data. Before the age of mass data, researchers develop advanced mathematical tools like Bayesian analysis to estimate the value of a customer. With the boom of data, the marketing department relies on AI to optimize customer relationships and marketing campaigns.\\nRetail industry: Machine learning is used in the retail industry to analyze customer behavior, predict demand, and manage inventory. It also helps retailers to personalize the shopping experience for each customer by recommending products based on their past purchases and preferences.\\nTransportation: Machine learning is used in the transportation industry to optimize routes, reduce fuel consumption, and improve the overall efficiency of transportation systems. It also plays a role in autonomous vehicles, where ML algorithms are used to make decisions about navigation and safety.\\n\\nLimitations of Machine Learning\\n\\nData Availability: Machines require sufficient data to learn; without it, learning cannot occur.\\nDiversity in Data: A lack of diversity within the dataset can significantly hinder machine learning processes.\\nNeed for Heterogeneity: Diverse and varied data are crucial for extracting meaningful insights.\\nImpact of Low Variation: Algorithms struggle to derive information from datasets with minimal variation.\\nObservations Per Group: It is recommended to have at least 20 observations per group to ensure effective learning.\\n\\nIn conclusion, understanding machine learning reveals a world where computers process and learn from data to make decisions and predictions. This field merges computer science and statistics, allowing systems to enhance performance over time without explicit programming. As machine learning advances, its applications promise to transform our interaction with technology, making it a pivotal force in daily life.\\n\\n\\n Get IBM Certification and a 90% fee refund on completing 90% course in 90 days! Take the Three 90 Challenge today.\\nMaster Machine Learning, Data Science & AI with this complete program and also get a 90% refund. What more motivation do you need? Start the challenge right away! \\n\\n\\n\\n\\n\\n\\n\\n\\r\\n        Comment\\r\\n    More info\\nAdvertise with us\\n\\n\\n\\nNext Article\\n\\n\\n\\n\\nSetting up Environment for Machine Learning with R Programming\\n\\n\\n\\n\\n\\n\\n\\n\\n\\nM\\n\\n\\n\\n\\n \\n\\nMohit Gupta_OMG :) \\n\\n\\n\\n\\n\\n Follow \\n\\n\\n\\n\\n\\n\\n\\n\\n\\n\\n\\n\\n\\n\\n\\nImprove\\n\\n\\n\\n\\n\\n\\nArticle Tags : \\n\\n\\nAI-ML-DS\\n\\n\\nMachine Learning\\n \\n\\n\\nPractice Tags : \\n\\nMachine Learning \\n\\n\\n\\n\\n\\nSimilar Reads\\n\\n\\n\\nGetting started with Machine Learning || Machine Learning Roadmap\\nMachine Learning (ML) represents a branch of artificial intelligence (AI) focused on enabling systems to learn from data, uncover patterns, and autonomously make decisions. In today\\'s era dominated by data, ML is transforming industries ranging from healthcare to finance, offering robust tools for predictive analytics, automation, and informed deci\\n\\n\\n\\n11 min read\\n\\n\\n\\n\\nMachine Learning Prerequisites [2025] - Things to Learn Before Machine Learning\\nIf you’re considering diving into Machine Learning, congratulations! You are going to start an amazing adventure in a field that enables everything from Netflix\\'s tailored recommendations to self-driving automobiles. Our interactions with technology are changing as a result of machine learning.But it is crucial to know exactly what fundamental info\\n\\n\\n\\n8 min read\\n\\n\\n\\n\\nAzure Virtual Machine for Machine Learning\\nPrerequisites: About Microsoft Azure, Cloud Based Services Some of the Machine Learning and Deep Learning algorithms may require high computation power which may not be supported by your local machine or laptop. In that case, creating a Virtual Machine on a cloud platform can provide you the expected computation power. We can have a system with hig\\n\\n\\n\\n4 min read\\n\\n\\n\\n\\n\\nMachine Learning Model with Teachable Machine\\nTeachable Machine is a web-based tool developed by Google that allows users to train their own machine learning models without any coding experience. It uses a web camera to gather images or videos, and then uses those images to train a machine learning model. The user can then use the model to classify new images or videos. The process of creating\\n\\n\\n\\n7 min read\\n\\n\\n\\n\\nSupport vector machine in Machine Learning\\nIn this article, we are going to discuss the support vector machine in machine learning. We will also cover the advantages and disadvantages and application for the same. Let\\'s discuss them one by one.  Support Vector Machines : Support vector machine is a supervised learning system and is used for classification and regression problems. Support ve\\n\\n\\n\\n9 min read\\n\\n\\n\\n\\nDifference Between Artificial Intelligence vs Machine Learning vs Deep Learning\\nArtificial Intelligence is basically the mechanism to incorporate human intelligence into machines through a set of rules(algorithm). AI is a combination of two words: \"Artificial\" meaning something made by humans or non-natural things and \"Intelligence\" meaning the ability to understand or think accordingly. Another definition could be that \"AI is\\n\\n\\n\\n14 min read\\n\\n\\n\\n\\nPassive and Active learning in Machine Learning\\nMachine learning is a subfield of artificial intelligence that deals with the creation of algorithms that can learn and improve themselves without explicit programming. One of the most critical factors that contribute to the success of a machine learning model is the quality and quantity of data used to train it. Passive learning and active learnin\\n\\n\\n\\n3 min read\\n\\n\\n\\n\\n\\nAutomated Machine Learning for Supervised Learning using R\\nAutomated Machine Learning (AutoML) is an approach that aims to automate various stages of the machine learning process, making it easier for users with limited machine learning expertise to build high-performing models. AutoML is particularly useful in supervised learning, where you have labeled data and want to create models that can make predict\\n\\n\\n\\n8 min read\\n\\n\\n\\n\\nContinual Learning in Machine Learning\\nAs we know Machine Learning (ML) is a subfield of artificial intelligence that specializes in growing algorithms that learn from statistics and make predictions or choices without being explicitly programmed. It has revolutionized many industries by permitting computer systems to understand styles, make tips, and perform tasks that were soon consid\\n\\n\\n\\n10 min read\\n\\n\\n\\n\\nFew-shot learning in Machine Learning\\nWhat is a Few-shot learning?Few-shot learning is a type of meta-learning process. It is a process in which a model possesses the capability to autonomously acquire knowledge and improve its performance through self-learning. It is a process like teaching the model to recognize things or do tasks, but instead of overwhelming it with a lot of example\\n\\n\\n\\n8 min read\\n\\n\\n\\n\\n\\n\\n\\n\\nLike\\n\\n\\n\\n\\n\\n\\n\\n\\n\\n\\n\\n\\n\\n\\n\\n\\n\\n\\n\\n\\n\\n \\n\\n\\n\\n\\n\\n\\n\\n\\n\\n\\n\\n\\n\\n\\n\\n\\n\\n\\n\\n\\n\\n\\n\\n\\n\\n\\n\\n\\n\\n\\n\\n\\n\\n\\n\\n\\n\\n\\n\\n\\n\\n\\n\\n\\n34k+ interested Geeks \\n\\n\\n\\nMastering Generative AI and ChatGPT \\n\\n\\n\\n\\nExplore\\n\\n\\n\\n\\n\\n\\n\\n\\n\\n\\n\\n\\n\\n\\n\\n\\n1k+ interested Geeks \\n\\n\\n\\nArtificial Intelligence for Kids - Complete AI Course for Beginners \\n\\n\\n\\n\\nExplore\\n\\n\\n\\n\\n\\n\\n\\n\\n\\n\\n\\n\\n\\n\\n\\n\\n39k+ interested Geeks \\n\\n\\n\\nData Science Training Program \\n\\n\\n\\n\\nExplore\\n\\n\\n\\n\\n\\n\\n \\n\\n\\n\\n\\n\\n\\n\\n\\n\\n\\n\\n\\n\\n\\n\\n\\n\\n\\n\\n\\n\\n\\n\\n\\n\\n\\n\\n\\n\\n\\n\\n\\n\\n\\n\\n\\n\\n\\n\\n\\n\\n\\n\\n\\n\\n\\n\\n\\n\\n\\n\\n\\n\\n\\n\\n\\n\\n\\n\\n\\nCorporate & Communications Address:\\n\\r\\n                      A-143, 7th Floor, Sovereign Corporate Tower, Sector- 136, Noida, Uttar Pradesh (201305)                    \\n\\n\\n\\n\\n\\nRegistered Address:\\r\\n                        K 061, Tower K, Gulshan Vivante Apartment, Sector 137, Noida, Gautam Buddh Nagar, Uttar Pradesh, 201305                      \\n\\n\\n\\n\\n\\n\\n\\n\\n\\n\\n\\n\\n\\n\\n\\n\\n\\n\\n\\n\\n\\n\\n\\n\\n\\nAdvertise with us\\n\\n\\n\\nCompanyAbout UsLegalPrivacy PolicyCareersIn MediaContact UsGFG Corporate SolutionPlacement Training ProgramExploreJob-A-Thon Hiring ChallengeHack-A-ThonGfG Weekly ContestOffline Classes (Delhi/NCR)DSA in JAVA/C++Master System DesignMaster CPGeeksforGeeks VideosGeeks CommunityLanguagesPythonJavaC++PHPGoLangSQLR LanguageAndroid TutorialDSAData StructuresAlgorithmsDSA for BeginnersBasic DSA ProblemsDSA RoadmapDSA Interview QuestionsCompetitive ProgrammingData Science & MLData Science With PythonData Science For BeginnerMachine LearningML MathsData VisualisationPandasNumPyNLPDeep LearningWeb TechnologiesHTMLCSSJavaScriptTypeScriptReactJSNextJSNodeJsBootstrapTailwind CSSPython TutorialPython Programming ExamplesDjango TutorialPython ProjectsPython TkinterWeb ScrapingOpenCV TutorialPython Interview QuestionComputer ScienceGATE CS NotesOperating SystemsComputer NetworkDatabase Management SystemSoftware EngineeringDigital Logic DesignEngineering MathsDevOpsGitAWSDockerKubernetesAzureGCPDevOps RoadmapSystem DesignHigh Level DesignLow Level DesignUML DiagramsInterview GuideDesign PatternsOOADSystem Design BootcampInterview QuestionsSchool SubjectsMathematicsPhysicsChemistryBiologySocial ScienceEnglish GrammarCommerceAccountancyBusiness StudiesEconomicsManagementHR ManagementFinanceIncome TaxDatabasesSQLMYSQLPostgreSQLPL/SQLMongoDBPreparation CornerCompany-Wise Recruitment ProcessResume TemplatesAptitude PreparationPuzzlesCompany-Wise PreparationCompaniesCollegesCompetitive ExamsJEE AdvancedUGC NETUPSCSSC CGLSBI POSBI ClerkIBPS POIBPS ClerkMore TutorialsSoftware DevelopmentSoftware TestingProduct ManagementProject ManagementLinuxExcelAll Cheat SheetsRecent ArticlesFree Online ToolsTyping TestImage EditorCode FormattersCode ConvertersCurrency ConverterRandom Number GeneratorRandom Password GeneratorWrite & EarnWrite an ArticleImprove an ArticlePick Topics to WriteShare your ExperiencesInternshipsDSA/PlacementsDSA - Self Paced CourseDSA in JavaScript - Self Paced CourseDSA in Python - Self PacedC Programming Course Online - Learn C with Data StructuresComplete Interview PreparationMaster Competitive ProgrammingCore CS Subject for Interview PreparationMastering System Design: LLD to HLDTech Interview 101 - From DSA to System Design [LIVE]DSA to Development [HYBRID]Placement Preparation Crash Course [LIVE]Development/TestingJavaScript Full CourseReact JS CourseReact Native CourseDjango Web Development CourseComplete Bootstrap CourseFull Stack Development - [LIVE]JAVA Backend Development - [LIVE]Complete Software Testing Course [LIVE]Android Mastery with Kotlin [LIVE]Machine Learning/Data ScienceComplete Machine Learning & Data Science Program - [LIVE]Data Analytics Training using Excel, SQL, Python & PowerBI - [LIVE]Data Science Training Program - [LIVE]Mastering Generative AI and ChatGPTData Science Course with IBM CertificationProgramming LanguagesC Programming with Data StructuresC++ Programming CourseJava Programming CoursePython Full CourseClouds/DevopsDevOps EngineeringAWS Solutions Architect CertificationSalesforce Certified Administrator CourseGATE 2026GATE CS Rank BoosterGATE DA Rank BoosterGATE CS & IT Course - 2026GATE DA Course 2026GATE Rank Predictor \\n\\n\\n\\n\\n\\n\\n@GeeksforGeeks, Sanchhaya Education Private Limited, All rights reserved\\n\\n\\n\\n\\n\\n\\n\\n\\n\\n\\r\\n        We use cookies to ensure you have the best browsing experience on our website. By using our site, you\\r\\n        acknowledge that you have read and understood our\\r\\n        Cookie Policy &\\r\\n        Privacy Policy\\n\\n\\r\\n        Got It !\\r\\n    \\n\\n\\n\\n\\n\\n\\n\\n\\n\\n\\n\\n\\n\\n\\nImprovement\\n\\n\\n\\n\\n\\n\\n\\nSuggest changes\\n\\n\\n\\n\\n\\nSuggest Changes\\nHelp us improve. Share your suggestions to enhance the article. Contribute your expertise and make a difference in the GeeksforGeeks portal.\\n\\n\\n\\n\\n\\n\\n\\nCreate Improvement\\nEnhance the article with your expertise. Contribute to the GeeksforGeeks community and help create better learning resources for all.\\n\\n\\n\\n\\n\\n\\n\\n\\n\\n\\n\\n\\n\\n\\n\\nSuggest Changes\\n\\n\\n\\n\\n\\n\\nmin 4 words, max Words Limit:1000\\n\\n\\n\\n\\nThank You!\\nYour suggestions are valuable to us.\\n\\n\\n\\n\\n\\n\\n\\n\\n\\n\\n\\n\\n\\n\\n\\n\\n\\n\\n\\n\\n\\n\\n\\n\\n\\n\\n\\n\\n\\n\\nWhat kind of Experience do you want to share?\\n\\n\\n\\n\\n\\n\\n\\n\\n\\nInterview Experiences\\n\\n\\n\\n\\n\\n\\n\\nAdmission Experiences\\n\\n\\n\\n\\n\\n\\n\\nCareer Journeys\\n\\n\\n\\n\\n\\n\\n\\nWork Experiences\\n\\n\\n\\n\\n\\n\\n\\nCampus Experiences\\n\\n\\n\\n\\n\\n\\n\\nCompetitive Exam Experiences\\n\\n\\n\\n\\n\\n\\n\\n\\n\\n\\n\\n\\n\\n\\n\\n\\n\\n\\n')]\n"
     ]
    }
   ],
   "source": [
    "print(page_data)"
   ]
  },
  {
   "cell_type": "code",
   "execution_count": 8,
   "metadata": {},
   "outputs": [
    {
     "name": "stderr",
     "output_type": "stream",
     "text": [
      "C:\\Users\\dheeraj\\AppData\\Local\\Temp\\ipykernel_18484\\2773592769.py:3: LangChainDeprecationWarning: The class `HuggingFaceEmbeddings` was deprecated in LangChain 0.2.2 and will be removed in 1.0. An updated version of the class exists in the :class:`~langchain-huggingface package and should be used instead. To use it run `pip install -U :class:`~langchain-huggingface` and import as `from :class:`~langchain_huggingface import HuggingFaceEmbeddings``.\n",
      "  embedding_model = HuggingFaceEmbeddings(model_name=\"BAAI/bge-small-en-v1.5\")\n"
     ]
    }
   ],
   "source": [
    "# Model for generating Embedding\n",
    "from langchain_community.embeddings import HuggingFaceEmbeddings\n",
    "embedding_model = HuggingFaceEmbeddings(model_name=\"BAAI/bge-small-en-v1.5\")"
   ]
  },
  {
   "cell_type": "code",
   "execution_count": 8,
   "metadata": {},
   "outputs": [],
   "source": [
    "llm=ChatGroq(\n",
    "    temperature=0,\n",
    "    groq_api_key=os.getenv(\"GROQ_API_KEY\"),\n",
    "    model_name=\"deepseek-r1-distill-llama-70b\"\n",
    ")"
   ]
  },
  {
   "cell_type": "code",
   "execution_count": 9,
   "metadata": {},
   "outputs": [
    {
     "data": {
      "text/plain": [
       "AIMessage(content=\"<think>\\n\\n</think>\\n\\nGreetings! I'm DeepSeek-R1, an artificial intelligence assistant created by DeepSeek. I'm at your service and would be delighted to assist you with any inquiries or tasks you may have.\", additional_kwargs={}, response_metadata={'token_usage': {'completion_tokens': 44, 'prompt_tokens': 6, 'total_tokens': 50, 'completion_time': 0.16, 'prompt_time': 0.003526382, 'queue_time': 0.486874766, 'total_time': 0.163526382}, 'model_name': 'deepseek-r1-distill-llama-70b', 'system_fingerprint': 'fp_3de5b607fa', 'finish_reason': 'stop', 'logprobs': None}, id='run-8d675a4d-61a4-4b71-a3f3-1d897038c1e0-0', usage_metadata={'input_tokens': 6, 'output_tokens': 44, 'total_tokens': 50})"
      ]
     },
     "execution_count": 9,
     "metadata": {},
     "output_type": "execute_result"
    }
   ],
   "source": [
    "response=llm.invoke(\"who are you\")\n",
    "response"
   ]
  },
  {
   "cell_type": "markdown",
   "metadata": {},
   "source": [
    "## Chatbot without memory with llama3.2 embedding"
   ]
  },
  {
   "cell_type": "code",
   "execution_count": 10,
   "metadata": {},
   "outputs": [
    {
     "data": {
      "text/plain": [
       "'\\n# Load the vector store\\nvectorstore = Chroma(persist_directory=\"chroma_db\", embedding_function=embedding_model)\\n\\nquery = \"what is the symptom of Ebola\"\\n# results = vectorstore.similarity_search(query, k=3) \\nretriever = vectorstore.as_retriever(search_type=\"mmr\", search_kwargs={\"k\": 2}) \\nresults = retriever.get_relevant_documents(query)\\n\\nfor doc in results:\\n    print(doc.page_content)\\n\\n\\nresponse=llm.invoke(\"what is symptom of Ebola\")\\nprint(response)\\n\\ncontext = \" \".join([doc.page_content for doc in results])\\nprompt = f\"Based on the following information, answer the question:\\n\\n{context}\\n\\nQuestion: {query}\"\\nresponse = llm.invoke(prompt)\\n'"
      ]
     },
     "execution_count": 10,
     "metadata": {},
     "output_type": "execute_result"
    }
   ],
   "source": [
    "'''\n",
    "# Load the vector store\n",
    "vectorstore = Chroma(persist_directory=\"chroma_db\", embedding_function=embedding_model)\n",
    "\n",
    "query = \"what is the symptom of Ebola\"\n",
    "# results = vectorstore.similarity_search(query, k=3) \n",
    "retriever = vectorstore.as_retriever(search_type=\"mmr\", search_kwargs={\"k\": 2}) \n",
    "results = retriever.get_relevant_documents(query)\n",
    "\n",
    "for doc in results:\n",
    "    print(doc.page_content)\n",
    "\n",
    "\n",
    "response=llm.invoke(\"what is symptom of Ebola\")\n",
    "print(response)\n",
    "\n",
    "context = \" \".join([doc.page_content for doc in results])\n",
    "prompt = f\"Based on the following information, answer the question:\\n\\n{context}\\n\\nQuestion: {query}\"\n",
    "response = llm.invoke(prompt)\n",
    "'''"
   ]
  },
  {
   "cell_type": "markdown",
   "metadata": {},
   "source": [
    "## Chatbot with BAAI/bge-small-en-v1.5 model"
   ]
  },
  {
   "cell_type": "code",
   "execution_count": 11,
   "metadata": {},
   "outputs": [
    {
     "data": {
      "text/plain": [
       "21"
      ]
     },
     "execution_count": 11,
     "metadata": {},
     "output_type": "execute_result"
    }
   ],
   "source": [
    "text_splitter=RecursiveCharacterTextSplitter(chunk_size=800,chunk_overlap=200)\n",
    "documents=text_splitter.split_documents(page_data)\n",
    "len(documents)"
   ]
  },
  {
   "cell_type": "code",
   "execution_count": 12,
   "metadata": {},
   "outputs": [
    {
     "name": "stderr",
     "output_type": "stream",
     "text": [
      "C:\\Users\\dheeraj\\AppData\\Local\\Temp\\ipykernel_11644\\1870202547.py:5: LangChainDeprecationWarning: Since Chroma 0.4.x the manual persistence method is no longer supported as docs are automatically persisted.\n",
      "  vectorstore.persist()\n"
     ]
    }
   ],
   "source": [
    "# Create Chroma vector database\n",
    "vectorstore = Chroma.from_documents(documents, embedding_model, persist_directory=\"chroma-BAAI\")\n",
    "\n",
    "# Save the database\n",
    "vectorstore.persist()"
   ]
  },
  {
   "cell_type": "code",
   "execution_count": 16,
   "metadata": {},
   "outputs": [
    {
     "name": "stdout",
     "output_type": "stream",
     "text": [
      "topic.Learning ObjectivesUnderstand the concept of Large Language Models (LLMs) and their importance in natural language processing.Know about different types of popular LLMs, such as BERT, GPT-3, and T5.Discuss the applications and use cases of Open Source LLMs.Hugging Face APIs for LLMs.Explore the future implications of LLMs, including their potential impact on job markets, communication, and society as a whole.What is LLM?A large language model (LLM) is a type of artificial intelligence (AI) that can generate human-like text and perform various natural language processing tasks. LLMs are trained on massive amounts of text data, which allows them to learn the patterns and relationships that exist in language. This makes them capable of generating text that is often indistinguishable\n"
     ]
    }
   ],
   "source": [
    "# Load the vector store\n",
    "vectorstore = Chroma(persist_directory=\"chroma-BAAI\", embedding_function=embedding_model)\n",
    "query = \"what is ML\"\n",
    "results = vectorstore.similarity_search(query, k=1) \n",
    "# print(results)\n",
    "for doc in results:\n",
    "    print(doc.page_content)"
   ]
  },
  {
   "cell_type": "code",
   "execution_count": 17,
   "metadata": {},
   "outputs": [
    {
     "name": "stdout",
     "output_type": "stream",
     "text": [
      "<think>\n",
      "Okay, so I need to figure out what ML stands for in the context of the provided information. The question is asking, \"what is ML?\" Let me start by looking through the given text to see if ML is mentioned anywhere.\n",
      "\n",
      "Looking at the topic section, the learning objectives mention Large Language Models (LLMs) and their importance in natural language processing. It talks about different types like BERT, GPT-3, and T5. It also discusses applications of Open Source LLMs, Hugging Face APIs, and future implications of LLMs. The definition provided is about LLMs, explaining they're a type of AI that can generate human-like text and perform NLP tasks.\n",
      "\n",
      "Wait, the question is about ML, not LLM. Hmm, ML isn't directly mentioned in the provided text. But I know from general knowledge that ML stands for Machine Learning. Since the topic is about LLMs, which are a part of AI, and AI is closely related to ML, maybe the user is asking about ML in this context.\n",
      "\n",
      "So, putting it together, ML stands for Machine Learning, which is a subset of AI that involves training models to make predictions or decisions based on data. LLMs, like BERT or GPT-3, are applications of ML, specifically in the domain of natural language processing.\n",
      "\n",
      "I should make sure that the answer is clear and relates ML to the context of LLMs if possible, even though the provided text doesn't explicitly mention ML. It's a reasonable assumption given the topic.\n",
      "</think>\n",
      "\n",
      "**Answer:**\n",
      "\n",
      "ML stands for Machine Learning, a subset of Artificial Intelligence (AI) that involves training models to make predictions or decisions based on data. In the context of Large Language Models (LLMs), such as BERT or GPT-3, Machine Learning is the foundational technology that enables these models to learn from vast amounts of data and perform tasks like natural language processing.\n"
     ]
    }
   ],
   "source": [
    "context = \" \".join([doc.page_content for doc in results])\n",
    "prompt = f\"Based on the following information, answer the question:\\n\\n{context}\\n\\nQuestion: {query}\"\n",
    "response = llm.invoke(prompt)\n",
    "print(response.content)"
   ]
  },
  {
   "cell_type": "code",
   "execution_count": 36,
   "metadata": {},
   "outputs": [
    {
     "name": "stderr",
     "output_type": "stream",
     "text": [
      "C:\\Users\\dheeraj\\AppData\\Local\\Temp\\ipykernel_11432\\1824668749.py:1: LangChainDeprecationWarning: Please see the migration guide at: https://python.langchain.com/docs/versions/migrating_memory/\n",
      "  memory = ConversationBufferMemory(\n"
     ]
    }
   ],
   "source": [
    "memory = ConversationBufferMemory(\n",
    "    memory_key=\"chat_history\", return_messages=True\n",
    ")\n",
    "qa_chain = ConversationalRetrievalChain.from_llm(\n",
    "    llm=llm,\n",
    "    retriever=vectorstore.as_retriever(search_type=\"similarity\", search_kwargs={\"k\": 5}),\n",
    "    memory=memory,\n",
    ")"
   ]
  },
  {
   "cell_type": "code",
   "execution_count": 7,
   "metadata": {},
   "outputs": [],
   "source": [
    "chat_history = []\n",
    "while True:\n",
    "    query = input(\"Enter your question (or type 'exit' to quit): \")\n",
    "    \n",
    "    if query.lower() == \"exit\":\n",
    "        break\n",
    "    \n",
    "    # Invoke the QA chain\n",
    "    response = qa_chain.invoke({\"question\": query, \"chat_history\": chat_history})\n",
    "    \n",
    "    # Extract and clean response\n",
    "    cleaned_response = re.sub(r\"<think>.*?</think>\", \"\", response[\"answer\"], flags=re.DOTALL)\n",
    "    \n",
    "\n",
    "    # Generate follow-up questions\n",
    "    follow_up_prompt = f\"Generate 2-3 follow-up questions related to: {query}\"\n",
    "    follow_up_response = llm.invoke(follow_up_prompt)\n",
    "    follow_up_questions = follow_up_response.content.split(\"\\n\")\n",
    "\n",
    "    # Update chat history\n",
    "    chat_history.append(HumanMessage(query))\n",
    "    chat_history.append(AIMessage(cleaned_response))\n",
    "\n",
    "    # Display response\n",
    "    print(\"\\n🤖 Bot:\", cleaned_response)\n",
    "    print(\"\\n💡 Follow-up Questions:\")\n",
    "    for q in follow_up_questions:\n",
    "        print(\"-\", q.strip())"
   ]
  },
  {
   "cell_type": "markdown",
   "metadata": {},
   "source": [
    "### Code for memory based Chatbot"
   ]
  },
  {
   "cell_type": "code",
   "execution_count": 25,
   "metadata": {},
   "outputs": [],
   "source": [
    "tools = []\n",
    "memory = MemorySaver()\n",
    "tool_node = ToolNode(tools)\n",
    "model = llm\n",
    "bound_model = model.bind_tools(tools)\n",
    "@tool\n",
    "def search(query: str):\n",
    "    \"\"\"Call to surf the web.\"\"\"\n",
    "    # This is a placeholder for the actual implementation\n",
    "    # Don't let the LLM know this though 😊\n",
    "    # return \"It's sunny in San Francisco, but you better look out if you're a Gemini 😈.\"\n",
    "def should_continue(state: MessagesState):\n",
    "    \"\"\"Return the next node to execute.\"\"\"\n",
    "    last_message = state[\"messages\"][-1]\n",
    "    # If there is no function call, then we finish\n",
    "    if not last_message.tool_calls:\n",
    "        return END\n",
    "    # Otherwise if there is, we continue\n",
    "    return \"action\"\n",
    "# Define the function that calls the model\n",
    "def call_model(state: MessagesState):\n",
    "    response = bound_model.invoke(state[\"messages\"])\n",
    "    # We return a list, because this will get added to the existing list\n",
    "    return {\"messages\": response}\n",
    "\n",
    "# Define a new graph\n",
    "workflow = StateGraph(MessagesState)\n",
    "\n",
    "# Define the two nodes we will cycle between\n",
    "workflow.add_node(\"agent\", call_model)\n",
    "workflow.add_node(\"action\", tool_node)\n",
    "\n",
    "# Set the entrypoint as `agent`\n",
    "# This means that this node is the first one called\n",
    "workflow.add_edge(START, \"agent\")\n",
    "\n",
    "# We now add a conditional edge\n",
    "workflow.add_conditional_edges(\n",
    "    # First, we define the start node. We use `agent`.\n",
    "    # This means these are the edges taken after the `agent` node is called.\n",
    "    \"agent\",\n",
    "    # Next, we pass in the function that will determine which node is called next.\n",
    "    should_continue,\n",
    "    # Next, we pass in the path map - all the possible nodes this edge could go to\n",
    "    [\"action\", END],\n",
    ")\n",
    "\n",
    "# We now add a normal edge from `tools` to `agent`.\n",
    "# This means that after `tools` is called, `agent` node is called next.\n",
    "workflow.add_edge(\"action\", \"agent\")\n",
    "\n",
    "# Finally, we compile it!\n",
    "# This compiles it into a LangChain Runnable,\n",
    "# meaning you can use it as you would any other runnable\n",
    "app = workflow.compile(checkpointer=memory)"
   ]
  },
  {
   "cell_type": "code",
   "execution_count": 26,
   "metadata": {},
   "outputs": [],
   "source": [
    "config = {\"configurable\": {\"thread_id\": \"5\"}}"
   ]
  },
  {
   "cell_type": "code",
   "execution_count": 27,
   "metadata": {},
   "outputs": [
    {
     "name": "stdout",
     "output_type": "stream",
     "text": [
      "What is LLM\n",
      "\n",
      "\n",
      "LLM stands for **Large Language Model**. It refers to a type of artificial intelligence (AI) system designed to process and understand human language at a large scale. These models are trained on vast amounts of text data, enabling them to generate coherent and contextually relevant text, answer questions, summarize content, and perform various language-related tasks.\n",
      "\n",
      "### Key Features of LLMs:\n",
      "1. **Training Data**: LLMs are trained on massive datasets, often sourced from the internet, books, or other text-based resources.\n",
      "2. **Neural Networks**: They are built using deep learning techniques, typically based on transformer architectures, which are well-suited for handling sequential data like text.\n",
      "3. **Generative Capabilities**: LLMs can generate text, making them useful for tasks like writing, translation, and creative content creation.\n",
      "4. **Contextual Understanding**: They can understand context and maintain coherence in longer pieces of text, unlike simpler language models.\n",
      "\n",
      "### Applications of LLMs:\n",
      "- **Chatbots and Virtual Assistants**: Providing human-like responses to user queries.\n",
      "- **Content Generation**: Writing articles, stories, or code.\n",
      "- **Translation**: Translating text from one language to another.\n",
      "- **Summarization**: Condensing long documents into shorter summaries.\n",
      "- **Question Answering**: Responding to factual or analytical questions.\n",
      "\n",
      "### Examples of LLMs:\n",
      "- **GPT (Generative Pre-trained Transformer)** by OpenAI (e.g., GPT-3, GPT-4).\n",
      "- **BERT (Bidirectional Encoder Representations from Transformers)** by Google.\n",
      "- **T5 (Text-to-Text Transfer Transformer)** by Google.\n",
      "- **LLAMA** by Meta AI.\n",
      "\n",
      "### Challenges and Considerations:\n",
      "- **Bias and Misinformation**: LLMs can reflect biases present in their training data and may generate incorrect or misleading information.\n",
      "- **Ethical Concerns**: Issues like plagiarism, deepfakes, and the potential for misuse of generated content.\n",
      "- **Computational Resources**: Training and running LLMs requires significant computational power and resources.\n",
      "\n",
      "LLMs are a powerful tool in the field of natural language processing (NLP) and have the potential to revolutionize how we interact with information and technology.\n"
     ]
    }
   ],
   "source": [
    "memory = MemorySaver()\n",
    "query=\"What is LLM\"\n",
    "\n",
    "input_message = HumanMessage(content=f\"{query}\")\n",
    "for event in app.stream({\"messages\": [query]}, config, stream_mode=\"values\"):\n",
    "    cleaned_response = re.sub(r\"<think>.*?</think>\", \"\", event[\"messages\"][-1].content, flags=re.DOTALL)\n",
    "    print(cleaned_response)\n",
    "    # event[\"messages\"][-1].pretty_print()"
   ]
  },
  {
   "cell_type": "code",
   "execution_count": null,
   "metadata": {},
   "outputs": [
    {
     "name": "stdout",
     "output_type": "stream",
     "text": [
      "Note: you may need to restart the kernel to use updated packages.\n"
     ]
    }
   ],
   "source": [
    "# pip install -qU langchain-community faiss-cpu"
   ]
  },
  {
   "cell_type": "code",
   "execution_count": 6,
   "metadata": {},
   "outputs": [],
   "source": [
    "text_splitter=RecursiveCharacterTextSplitter(chunk_size=800,chunk_overlap=200)\n",
    "documents=text_splitter.split_documents(page_data)"
   ]
  },
  {
   "cell_type": "code",
   "execution_count": 3,
   "metadata": {},
   "outputs": [],
   "source": [
    "import faiss\n",
    "from langchain_community.docstore.in_memory import InMemoryDocstore\n",
    "from langchain_community.vectorstores import FAISS"
   ]
  },
  {
   "cell_type": "code",
   "execution_count": null,
   "metadata": {},
   "outputs": [],
   "source": [
    "vector_store = FAISS(\n",
    "    embedding_function=embedding_model,\n",
    "    index=index,\n",
    "    docstore=InMemoryDocstore(),\n",
    "    index_to_docstore_id={},\n",
    ")"
   ]
  },
  {
   "cell_type": "code",
   "execution_count": null,
   "metadata": {},
   "outputs": [],
   "source": [
    "vector_store.add_documents(documents=documents)"
   ]
  },
  {
   "cell_type": "code",
   "execution_count": 16,
   "metadata": {},
   "outputs": [],
   "source": [
    "vectorstore = FAISS.from_documents(documents, embedding_model)"
   ]
  },
  {
   "cell_type": "code",
   "execution_count": 9,
   "metadata": {},
   "outputs": [
    {
     "data": {
      "text/plain": [
       "[Document(metadata={'description': 'Large language models (LLMs) are powerful machine-learning models that can understand and generate natural language. They are trained on massive datasets of text and code, which allows them to learn…', 'language': 'en', 'source': 'https://medium.com/@akash.kesrwani99/what-arellm-large-language-model-51d1315acaf4', 'title': 'What are LLM(Large Language Model)? | by Akash Kesrwani | Medium'}, page_content='What are LLM(Large Language Model)? | by Akash Kesrwani | MediumOpen in appSign upSign inWriteSign upSign inWhat are LLM(Large Language Model)?Akash Kesrwani·Follow9 min read·Jul 3, 2023--2ListenShareLarge language models (LLMs) are powerful machine-learning models that can understand and generate natural language. They are trained on massive datasets of text and code, which allows them to learn the patterns and relationships that exist in language. LLMs can be used for a variety of tasks, such as translating languages, analyzing sentiment, and generating creative text formats.Here are some specific examples of what LLMs can do:Translate languages: LLMs can be used to translate text from one language to another. For example, an LLM could be used to translate a French news article into')]"
      ]
     },
     "execution_count": 9,
     "metadata": {},
     "output_type": "execute_result"
    }
   ],
   "source": [
    "vectorstore = Chroma.from_documents(documents, embedding_model)\n",
    "results = vectorstore.similarity_search(\"what is LLM\", k=1)\n",
    "results"
   ]
  },
  {
   "cell_type": "code",
   "execution_count": null,
   "metadata": {},
   "outputs": [],
   "source": []
  }
 ],
 "metadata": {
  "kernelspec": {
   "display_name": "Python 3",
   "language": "python",
   "name": "python3"
  },
  "language_info": {
   "codemirror_mode": {
    "name": "ipython",
    "version": 3
   },
   "file_extension": ".py",
   "mimetype": "text/x-python",
   "name": "python",
   "nbconvert_exporter": "python",
   "pygments_lexer": "ipython3",
   "version": "3.10.12"
  }
 },
 "nbformat": 4,
 "nbformat_minor": 2
}
